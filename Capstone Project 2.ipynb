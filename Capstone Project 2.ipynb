{
 "cells": [
  {
   "cell_type": "code",
   "execution_count": 3,
   "id": "343a4e91",
   "metadata": {},
   "outputs": [
    {
     "name": "stdout",
     "output_type": "stream",
     "text": [
      "Collecting google-cloud-bigquery\n",
      "  Downloading google_cloud_bigquery-3.1.0-py2.py3-none-any.whl (211 kB)\n",
      "\u001b[K     |████████████████████████████████| 211 kB 5.1 MB/s eta 0:00:01\n",
      "\u001b[?25hRequirement already satisfied: python-dateutil<3.0dev,>=2.7.2 in /Users/alicephuongle/opt/anaconda3/lib/python3.8/site-packages (from google-cloud-bigquery) (2.8.1)\n",
      "Collecting google-resumable-media<3.0dev,>=0.6.0\n",
      "  Downloading google_resumable_media-2.3.2-py2.py3-none-any.whl (76 kB)\n",
      "\u001b[K     |████████████████████████████████| 76 kB 13.6 MB/s eta 0:00:01\n",
      "\u001b[?25hCollecting google-cloud-bigquery-storage<3.0.0dev,>=2.0.0\n",
      "  Downloading google_cloud_bigquery_storage-2.13.1-py2.py3-none-any.whl (180 kB)\n",
      "\u001b[K     |████████████████████████████████| 180 kB 11.3 MB/s eta 0:00:01\n",
      "\u001b[?25hCollecting grpcio<2.0dev,>=1.38.1\n",
      "  Downloading grpcio-1.46.1-cp38-cp38-macosx_10_10_x86_64.whl (4.4 MB)\n",
      "\u001b[K     |████████████████████████████████| 4.4 MB 12.2 MB/s eta 0:00:01\n",
      "\u001b[?25hCollecting google-api-core[grpc]!=2.0.*,!=2.1.*,!=2.2.*,!=2.3.0,<3.0.0dev,>=1.31.5\n",
      "  Downloading google_api_core-2.7.3-py3-none-any.whl (114 kB)\n",
      "\u001b[K     |████████████████████████████████| 114 kB 16.2 MB/s eta 0:00:01\n",
      "\u001b[?25hCollecting proto-plus>=1.15.0\n",
      "  Downloading proto_plus-1.20.3-py3-none-any.whl (46 kB)\n",
      "\u001b[K     |████████████████████████████████| 46 kB 15.0 MB/s eta 0:00:01\n",
      "\u001b[?25hRequirement already satisfied: requests<3.0.0dev,>=2.18.0 in /Users/alicephuongle/opt/anaconda3/lib/python3.8/site-packages (from google-cloud-bigquery) (2.25.1)\n",
      "Requirement already satisfied: packaging>=14.3 in /Users/alicephuongle/opt/anaconda3/lib/python3.8/site-packages (from google-cloud-bigquery) (20.9)\n",
      "Collecting pyarrow<9.0dev,>=3.0.0\n",
      "  Downloading pyarrow-8.0.0-cp38-cp38-macosx_10_13_x86_64.whl (22.4 MB)\n",
      "\u001b[K     |████████████████████████████████| 22.4 MB 1.6 MB/s eta 0:00:01\n",
      "\u001b[?25hCollecting protobuf>=3.12.0\n",
      "  Downloading protobuf-3.20.1-cp38-cp38-macosx_10_9_x86_64.whl (962 kB)\n",
      "\u001b[K     |████████████████████████████████| 962 kB 18.2 MB/s eta 0:00:01\n",
      "\u001b[?25hCollecting google-cloud-core<3.0.0dev,>=1.4.1\n",
      "  Downloading google_cloud_core-2.3.0-py2.py3-none-any.whl (29 kB)\n",
      "Collecting googleapis-common-protos<2.0dev,>=1.52.0\n",
      "  Downloading googleapis_common_protos-1.56.1-py2.py3-none-any.whl (211 kB)\n",
      "\u001b[K     |████████████████████████████████| 211 kB 10.5 MB/s eta 0:00:01\n",
      "\u001b[?25hCollecting google-auth<3.0dev,>=1.25.0\n",
      "  Downloading google_auth-2.6.6-py2.py3-none-any.whl (156 kB)\n",
      "\u001b[K     |████████████████████████████████| 156 kB 6.8 MB/s eta 0:00:01\n",
      "\u001b[?25hCollecting grpcio-status<2.0dev,>=1.33.2\n",
      "  Downloading grpcio_status-1.46.1-py3-none-any.whl (10.0 kB)\n",
      "Collecting pyasn1-modules>=0.2.1\n",
      "  Downloading pyasn1_modules-0.2.8-py2.py3-none-any.whl (155 kB)\n",
      "\u001b[K     |████████████████████████████████| 155 kB 6.3 MB/s eta 0:00:01\n",
      "\u001b[?25hCollecting rsa<5,>=3.1.4\n",
      "  Downloading rsa-4.8-py3-none-any.whl (39 kB)\n",
      "Collecting cachetools<6.0,>=2.0.0\n",
      "  Downloading cachetools-5.1.0-py3-none-any.whl (9.2 kB)\n",
      "Requirement already satisfied: six>=1.9.0 in /Users/alicephuongle/opt/anaconda3/lib/python3.8/site-packages (from google-auth<3.0dev,>=1.25.0->google-api-core[grpc]!=2.0.*,!=2.1.*,!=2.2.*,!=2.3.0,<3.0.0dev,>=1.31.5->google-cloud-bigquery) (1.15.0)\n",
      "Collecting google-crc32c<2.0dev,>=1.0\n",
      "  Downloading google_crc32c-1.3.0-cp38-cp38-macosx_10_9_x86_64.whl (30 kB)\n",
      "Requirement already satisfied: pyparsing>=2.0.2 in /Users/alicephuongle/opt/anaconda3/lib/python3.8/site-packages (from packaging>=14.3->google-cloud-bigquery) (2.4.7)\n",
      "Requirement already satisfied: numpy>=1.16.6 in /Users/alicephuongle/opt/anaconda3/lib/python3.8/site-packages (from pyarrow<9.0dev,>=3.0.0->google-cloud-bigquery) (1.20.1)\n",
      "Collecting pyasn1<0.5.0,>=0.4.6\n",
      "  Downloading pyasn1-0.4.8-py2.py3-none-any.whl (77 kB)\n",
      "\u001b[K     |████████████████████████████████| 77 kB 12.2 MB/s eta 0:00:01\n",
      "\u001b[?25hRequirement already satisfied: chardet<5,>=3.0.2 in /Users/alicephuongle/opt/anaconda3/lib/python3.8/site-packages (from requests<3.0.0dev,>=2.18.0->google-cloud-bigquery) (4.0.0)\n",
      "Requirement already satisfied: urllib3<1.27,>=1.21.1 in /Users/alicephuongle/opt/anaconda3/lib/python3.8/site-packages (from requests<3.0.0dev,>=2.18.0->google-cloud-bigquery) (1.26.4)\n",
      "Requirement already satisfied: idna<3,>=2.5 in /Users/alicephuongle/opt/anaconda3/lib/python3.8/site-packages (from requests<3.0.0dev,>=2.18.0->google-cloud-bigquery) (2.10)\n",
      "Requirement already satisfied: certifi>=2017.4.17 in /Users/alicephuongle/opt/anaconda3/lib/python3.8/site-packages (from requests<3.0.0dev,>=2.18.0->google-cloud-bigquery) (2020.12.5)\n",
      "Installing collected packages: pyasn1, rsa, pyasn1-modules, protobuf, cachetools, grpcio, googleapis-common-protos, google-auth, grpcio-status, google-api-core, proto-plus, google-crc32c, pyarrow, google-resumable-media, google-cloud-core, google-cloud-bigquery-storage, google-cloud-bigquery\n",
      "Successfully installed cachetools-5.1.0 google-api-core-2.7.3 google-auth-2.6.6 google-cloud-bigquery-3.1.0 google-cloud-bigquery-storage-2.13.1 google-cloud-core-2.3.0 google-crc32c-1.3.0 google-resumable-media-2.3.2 googleapis-common-protos-1.56.1 grpcio-1.46.1 grpcio-status-1.46.1 proto-plus-1.20.3 protobuf-3.20.1 pyarrow-8.0.0 pyasn1-0.4.8 pyasn1-modules-0.2.8 rsa-4.8\n",
      "Requirement already satisfied: google-cloud-bigquery-storage in /Users/alicephuongle/opt/anaconda3/lib/python3.8/site-packages (2.13.1)\n",
      "Requirement already satisfied: google-api-core[grpc]!=2.0.*,!=2.1.*,!=2.2.*,!=2.3.0,<3.0.0dev,>=1.31.5 in /Users/alicephuongle/opt/anaconda3/lib/python3.8/site-packages (from google-cloud-bigquery-storage) (2.7.3)\n",
      "Requirement already satisfied: proto-plus>=1.18.0 in /Users/alicephuongle/opt/anaconda3/lib/python3.8/site-packages (from google-cloud-bigquery-storage) (1.20.3)\n",
      "Requirement already satisfied: protobuf>=3.12.0 in /Users/alicephuongle/opt/anaconda3/lib/python3.8/site-packages (from google-api-core[grpc]!=2.0.*,!=2.1.*,!=2.2.*,!=2.3.0,<3.0.0dev,>=1.31.5->google-cloud-bigquery-storage) (3.20.1)\n",
      "Requirement already satisfied: googleapis-common-protos<2.0dev,>=1.52.0 in /Users/alicephuongle/opt/anaconda3/lib/python3.8/site-packages (from google-api-core[grpc]!=2.0.*,!=2.1.*,!=2.2.*,!=2.3.0,<3.0.0dev,>=1.31.5->google-cloud-bigquery-storage) (1.56.1)\n",
      "Requirement already satisfied: google-auth<3.0dev,>=1.25.0 in /Users/alicephuongle/opt/anaconda3/lib/python3.8/site-packages (from google-api-core[grpc]!=2.0.*,!=2.1.*,!=2.2.*,!=2.3.0,<3.0.0dev,>=1.31.5->google-cloud-bigquery-storage) (2.6.6)\n",
      "Requirement already satisfied: requests<3.0.0dev,>=2.18.0 in /Users/alicephuongle/opt/anaconda3/lib/python3.8/site-packages (from google-api-core[grpc]!=2.0.*,!=2.1.*,!=2.2.*,!=2.3.0,<3.0.0dev,>=1.31.5->google-cloud-bigquery-storage) (2.25.1)\n",
      "Requirement already satisfied: grpcio-status<2.0dev,>=1.33.2 in /Users/alicephuongle/opt/anaconda3/lib/python3.8/site-packages (from google-api-core[grpc]!=2.0.*,!=2.1.*,!=2.2.*,!=2.3.0,<3.0.0dev,>=1.31.5->google-cloud-bigquery-storage) (1.46.1)\n",
      "Requirement already satisfied: grpcio<2.0dev,>=1.33.2 in /Users/alicephuongle/opt/anaconda3/lib/python3.8/site-packages (from google-api-core[grpc]!=2.0.*,!=2.1.*,!=2.2.*,!=2.3.0,<3.0.0dev,>=1.31.5->google-cloud-bigquery-storage) (1.46.1)\n",
      "Requirement already satisfied: cachetools<6.0,>=2.0.0 in /Users/alicephuongle/opt/anaconda3/lib/python3.8/site-packages (from google-auth<3.0dev,>=1.25.0->google-api-core[grpc]!=2.0.*,!=2.1.*,!=2.2.*,!=2.3.0,<3.0.0dev,>=1.31.5->google-cloud-bigquery-storage) (5.1.0)\n",
      "Requirement already satisfied: pyasn1-modules>=0.2.1 in /Users/alicephuongle/opt/anaconda3/lib/python3.8/site-packages (from google-auth<3.0dev,>=1.25.0->google-api-core[grpc]!=2.0.*,!=2.1.*,!=2.2.*,!=2.3.0,<3.0.0dev,>=1.31.5->google-cloud-bigquery-storage) (0.2.8)\n",
      "Requirement already satisfied: rsa<5,>=3.1.4 in /Users/alicephuongle/opt/anaconda3/lib/python3.8/site-packages (from google-auth<3.0dev,>=1.25.0->google-api-core[grpc]!=2.0.*,!=2.1.*,!=2.2.*,!=2.3.0,<3.0.0dev,>=1.31.5->google-cloud-bigquery-storage) (4.8)\n",
      "Requirement already satisfied: six>=1.9.0 in /Users/alicephuongle/opt/anaconda3/lib/python3.8/site-packages (from google-auth<3.0dev,>=1.25.0->google-api-core[grpc]!=2.0.*,!=2.1.*,!=2.2.*,!=2.3.0,<3.0.0dev,>=1.31.5->google-cloud-bigquery-storage) (1.15.0)\n",
      "Requirement already satisfied: pyasn1<0.5.0,>=0.4.6 in /Users/alicephuongle/opt/anaconda3/lib/python3.8/site-packages (from pyasn1-modules>=0.2.1->google-auth<3.0dev,>=1.25.0->google-api-core[grpc]!=2.0.*,!=2.1.*,!=2.2.*,!=2.3.0,<3.0.0dev,>=1.31.5->google-cloud-bigquery-storage) (0.4.8)\n"
     ]
    },
    {
     "name": "stdout",
     "output_type": "stream",
     "text": [
      "Requirement already satisfied: urllib3<1.27,>=1.21.1 in /Users/alicephuongle/opt/anaconda3/lib/python3.8/site-packages (from requests<3.0.0dev,>=2.18.0->google-api-core[grpc]!=2.0.*,!=2.1.*,!=2.2.*,!=2.3.0,<3.0.0dev,>=1.31.5->google-cloud-bigquery-storage) (1.26.4)\r\n",
      "Requirement already satisfied: certifi>=2017.4.17 in /Users/alicephuongle/opt/anaconda3/lib/python3.8/site-packages (from requests<3.0.0dev,>=2.18.0->google-api-core[grpc]!=2.0.*,!=2.1.*,!=2.2.*,!=2.3.0,<3.0.0dev,>=1.31.5->google-cloud-bigquery-storage) (2020.12.5)\r\n",
      "Requirement already satisfied: idna<3,>=2.5 in /Users/alicephuongle/opt/anaconda3/lib/python3.8/site-packages (from requests<3.0.0dev,>=2.18.0->google-api-core[grpc]!=2.0.*,!=2.1.*,!=2.2.*,!=2.3.0,<3.0.0dev,>=1.31.5->google-cloud-bigquery-storage) (2.10)\r\n",
      "Requirement already satisfied: chardet<5,>=3.0.2 in /Users/alicephuongle/opt/anaconda3/lib/python3.8/site-packages (from requests<3.0.0dev,>=2.18.0->google-api-core[grpc]!=2.0.*,!=2.1.*,!=2.2.*,!=2.3.0,<3.0.0dev,>=1.31.5->google-cloud-bigquery-storage) (4.0.0)\r\n"
     ]
    }
   ],
   "source": [
    "!pip3 install google-cloud-bigquery\n",
    "!pip3 install google-cloud-bigquery-storage\n",
    "!pip3 install db-dtypes"
   ]
  },
  {
   "cell_type": "code",
   "execution_count": 3,
   "id": "d363ea40",
   "metadata": {},
   "outputs": [],
   "source": [
    "import os\n",
    "import pandas as pd\n",
    "from google.cloud import bigquery\n",
    "from google.cloud.exceptions import NotFound\n",
    "from sqlalchemy import create_engine\n",
    "import pyspark"
   ]
  },
  {
   "cell_type": "code",
   "execution_count": 4,
   "id": "626667c8",
   "metadata": {},
   "outputs": [],
   "source": [
    "os.environ['GOOGLE_APPLICATION_CREDENTIALS'] = \"big-query-test-350401-86309d88e07d.json\""
   ]
  },
  {
   "cell_type": "code",
   "execution_count": 5,
   "id": "8e75c1eb",
   "metadata": {},
   "outputs": [],
   "source": [
    "def select(sql):\n",
    "    \"\"\"Select data from Google BigQuery table and return a Pandas dataframe.\n",
    "    \n",
    "    :param sql: Google BigQuery SQL statement\n",
    "    :return: Pandas dataframe\n",
    "    \"\"\"\n",
    "    \n",
    "    client = bigquery.Client()\n",
    "    return client.query(sql).to_dataframe()"
   ]
  },
  {
   "cell_type": "code",
   "execution_count": 6,
   "id": "8962928a",
   "metadata": {},
   "outputs": [],
   "source": [
    "sql = \"\"\"\n",
    "    SELECT\n",
    "device.browser,\n",
    "SUM ( totals.transactions ) AS total_transactions\n",
    "FROM `bigquery-public-data.google_analytics_sample.ga_sessions_*`\n",
    "WHERE\n",
    "_TABLE_SUFFIX BETWEEN '20170701' AND '20170731'\n",
    "GROUP BY\n",
    "device.browser\n",
    "ORDER BY\n",
    "total_transactions DESC\n",
    "\"\"\"\n",
    "df = select(sql)"
   ]
  },
  {
   "cell_type": "code",
   "execution_count": 7,
   "id": "1ff7bd6c",
   "metadata": {},
   "outputs": [
    {
     "data": {
      "text/html": [
       "<div>\n",
       "<style scoped>\n",
       "    .dataframe tbody tr th:only-of-type {\n",
       "        vertical-align: middle;\n",
       "    }\n",
       "\n",
       "    .dataframe tbody tr th {\n",
       "        vertical-align: top;\n",
       "    }\n",
       "\n",
       "    .dataframe thead th {\n",
       "        text-align: right;\n",
       "    }\n",
       "</style>\n",
       "<table border=\"1\" class=\"dataframe\">\n",
       "  <thead>\n",
       "    <tr style=\"text-align: right;\">\n",
       "      <th></th>\n",
       "      <th>browser</th>\n",
       "      <th>total_transactions</th>\n",
       "    </tr>\n",
       "  </thead>\n",
       "  <tbody>\n",
       "    <tr>\n",
       "      <th>0</th>\n",
       "      <td>Chrome</td>\n",
       "      <td>984</td>\n",
       "    </tr>\n",
       "    <tr>\n",
       "      <th>1</th>\n",
       "      <td>Safari</td>\n",
       "      <td>65</td>\n",
       "    </tr>\n",
       "    <tr>\n",
       "      <th>2</th>\n",
       "      <td>Firefox</td>\n",
       "      <td>12</td>\n",
       "    </tr>\n",
       "    <tr>\n",
       "      <th>3</th>\n",
       "      <td>Internet Explorer</td>\n",
       "      <td>7</td>\n",
       "    </tr>\n",
       "    <tr>\n",
       "      <th>4</th>\n",
       "      <td>Opera</td>\n",
       "      <td>2</td>\n",
       "    </tr>\n",
       "  </tbody>\n",
       "</table>\n",
       "</div>"
      ],
      "text/plain": [
       "             browser  total_transactions\n",
       "0             Chrome                 984\n",
       "1             Safari                  65\n",
       "2            Firefox                  12\n",
       "3  Internet Explorer                   7\n",
       "4              Opera                   2"
      ]
     },
     "execution_count": 7,
     "metadata": {},
     "output_type": "execute_result"
    }
   ],
   "source": [
    "df.head()"
   ]
  },
  {
   "cell_type": "code",
   "execution_count": null,
   "id": "f6fde3a6",
   "metadata": {},
   "outputs": [],
   "source": []
  }
 ],
 "metadata": {
  "kernelspec": {
   "display_name": "Python 3",
   "language": "python",
   "name": "python3"
  },
  "language_info": {
   "codemirror_mode": {
    "name": "ipython",
    "version": 3
   },
   "file_extension": ".py",
   "mimetype": "text/x-python",
   "name": "python",
   "nbconvert_exporter": "python",
   "pygments_lexer": "ipython3",
   "version": "3.8.8"
  }
 },
 "nbformat": 4,
 "nbformat_minor": 5
}
